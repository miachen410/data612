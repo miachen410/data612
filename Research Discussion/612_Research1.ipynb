{
 "cells": [
  {
   "cell_type": "markdown",
   "metadata": {},
   "source": [
    "# DATA 612 - Research Discussion Assignment 1\n",
    "\n",
    "## Commercial Recommender\n",
    "#### Now that we have covered basic techniques for recommender systems, choose one commercial recommender and describe how you think it works (content-based, collaborative filtering, etc). Does the technique deliver a good experience or are the recommendations off-target?\n",
    "I enjoy Spotify's music recommendations, such as its \"Discover Weekly\" playlist, an algorithm-generated playlist that is released every Monday, bringing listeners 30 songs of customer, curated music recommendations. Other customized recommendations in Daily Mixes, Release Radar and Recommended suggestions of playlists or artists are also my favorites. \n",
    "\n",
    "Spotify's recommendation algorithms analyzes user data in order to provide personalized recommendations. Discover Weekly and other playlists are created using collaborative filtering, based on the user's listening history, in tadem with songs enjoyed by users who seem to have a similar history. In addition to collaborative filtering, Spotify uses natural language processing (NLP) to scrape the internet for articles, blogs and metadata about specific artists and songs. Each artist or song is then assigned a dynamic list of top terms that changes daily and is weighted by relevance. The engine then determines whether two pieces of music or artists are similar. Spotify analyzes each individual audio file's characteristics, including tempo, loudness, key and time signature. This not only improves the quality of recommendations for existing songs, but also enables the discovery of new songs that are less popular and do not show up via collaborative filtering and NLP. Spotify can then train a machine learning algorithms to predict preferences and future listening patterns.\n",
    "\n",
    "## Attacks on Recommender System\n",
    "\n",
    "##### Read the article below and consider how to handle attacks on recommender systems. Can you think of a similar example where a collective effort to alter the workings of content recommendations have been successful? How would you design a system to prevent this kind of abuse?\n",
    "\n",
    "[Travis M. Andrews, The Washington Post (2017): Wisdom of the crowd? IMDb users gang up on Christian Bale’s new movie before it even opens.](https://www.washingtonpost.com/news/morning-mix/wp/2017/04/19/wisdom-of-the-crowd-imdb-users-gang-up-on-the-promise-before-it-even-opens/)\n",
    "\n",
    "A similar example where a collective effort could alter the workings of content recommendations would be review sabotage. Fake reviews with low ratings coming from competitors could hurt a business. One way to prevent this kind of abuse is to weigh ratings not only by their volume, but also the time interval. In the IMDB example, 120,000 low ratings were given to a movie that had not yet released. If the recommender system uses the average rating from each day, as an additonal factor to calculate the movie's total rating, it could prevent such a drastic damage.\n",
    "\n",
    "\n",
    "`source`: \n",
    "\n",
    "[Music To My Ears: De-Blackboxing Spotify's Recommendation Engine](https://blogs.commons.georgetown.edu/cctp-607-spring2019/2019/05/06/music-to-my-ears-de-blackboxing-spotifys-recommendation-algorithm/#:~:text=In%20terms%20of%20Spotify%2C%20Discover,to%20establish%20a%20Taste%20Profile.)\n",
    "\n",
    "[Discover Weekly: How Spotify is Changing the Way We Consume Music](https://digital.hbs.edu/platform-rctom/submission/discover-weekly-how-spotify-is-changing-the-way-we-consume-music/)"
   ]
  }
 ],
 "metadata": {
  "kernelspec": {
   "display_name": "Python 3",
   "language": "python",
   "name": "python3"
  },
  "language_info": {
   "codemirror_mode": {
    "name": "ipython",
    "version": 3
   },
   "file_extension": ".py",
   "mimetype": "text/x-python",
   "name": "python",
   "nbconvert_exporter": "python",
   "pygments_lexer": "ipython3",
   "version": "3.7.4"
  }
 },
 "nbformat": 4,
 "nbformat_minor": 4
}
