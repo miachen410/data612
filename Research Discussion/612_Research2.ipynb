{
 "cells": [
  {
   "cell_type": "markdown",
   "metadata": {},
   "source": [
    "# DATA 612 - Research Discussion Assignment 2\n",
    "\n",
    "##### For this discussion item, please watch the following talk and summarize what you found to be the most important or interesting points. The first half will cover some of the mathematical techniques covered in this unit's reading and the second half some of the data management challenges in an industrial-scale recommendation system.\n",
    "\n",
    "Video: [Music Recommendations at Scale with Spark - Christopher Johnson (Spotify)](http://www.youtube.com/watch?v=3LBgiFch4_g)\n",
    "\n",
    "## Choice of Algorithms\n",
    "\n",
    "Christopher talks about how other companies such as Pandora uses content filtering as their recommendation algorithm. An expert scores a song based on hundres of characteristics and a user also provides information about his/her music preferences. Recommendations are then made based on pairing these two sources. However, this approach requires lots of manual efforts and is time consuming. On the other hand, Spotify uses collaborative filtering for their recommendation system. This technique uses previous users' input and behavior to predict the rating and make future recommendations. A major advantage of this approach is that it doesn't need to know what is being rated, just who rated what, and what the rating was. Although collaborative filtering performs more efficiently in comparison, these two approaches are not mutually exclusive. Content information can be built into collaborative filtering system to improve performance.\n",
    "\n",
    "## Choice of Tools\n",
    "\n",
    "With the large amount of data, using Hadoop MapReduce to read from and write to a disk everytime is painful and costly. And Spark came to the rescue! Spark can do in-memory, so the speed of processing can be up to 100 times faster in RAM and up to 10 times faster for data in storage. Spark is capable of iterative and near real-time processing. As industries develop more creative, customer-based products and services, the need for machine learning algorithms to help develop personalizations, recommendations, and predictive insights becomes much more important."
   ]
  }
 ],
 "metadata": {
  "kernelspec": {
   "display_name": "Python 3",
   "language": "python",
   "name": "python3"
  },
  "language_info": {
   "codemirror_mode": {
    "name": "ipython",
    "version": 3
   },
   "file_extension": ".py",
   "mimetype": "text/x-python",
   "name": "python",
   "nbconvert_exporter": "python",
   "pygments_lexer": "ipython3",
   "version": "3.7.4"
  }
 },
 "nbformat": 4,
 "nbformat_minor": 4
}
