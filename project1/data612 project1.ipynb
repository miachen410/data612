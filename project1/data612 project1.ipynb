{
 "cells": [
  {
   "cell_type": "code",
   "execution_count": 1,
   "metadata": {},
   "outputs": [],
   "source": [
    "import pandas as pd\n",
    "import numpy as np"
   ]
  },
  {
   "cell_type": "code",
   "execution_count": 3,
   "metadata": {},
   "outputs": [],
   "source": [
    "rate = pd.read_csv('./ratings_small.csv')"
   ]
  },
  {
   "cell_type": "code",
   "execution_count": 20,
   "metadata": {},
   "outputs": [],
   "source": [
    "rate_mtrx=rate.pivot(index='userId', columns='movieId', values='rating')\n",
    "##  select the first 7 movies only\n",
    "rate_mtrx=rate_mtrx.reset_index()[['userId',1,2,3,4,5,6,7]]"
   ]
  },
  {
   "cell_type": "code",
   "execution_count": 21,
   "metadata": {},
   "outputs": [],
   "source": [
    "from sklearn.model_selection import train_test_split\n",
    "train, test = train_test_split(rate_mtrx, test_size=0.2)"
   ]
  },
  {
   "cell_type": "code",
   "execution_count": 22,
   "metadata": {},
   "outputs": [
    {
     "name": "stdout",
     "output_type": "stream",
     "text": [
      "training raw average:  1.2614634146341464\n"
     ]
    }
   ],
   "source": [
    "total_sum = (train[1].sum(skipna=True) +\n",
    "      train[2].sum(skipna=True) +\n",
    "      train[3].sum(skipna=True) +\n",
    "      train[4].sum(skipna=True) +\n",
    "      train[5].sum(skipna=True))\n",
    "\n",
    "total_entries = (~np.isnan(train)).sum(1).sum()\n",
    "\n",
    "train_mean = total_sum/total_entries\n",
    "\n",
    "print \"training raw average: \", train_mean"
   ]
  },
  {
   "cell_type": "code",
   "execution_count": 23,
   "metadata": {},
   "outputs": [
    {
     "name": "stdout",
     "output_type": "stream",
     "text": [
      "training RMSE:  2.3019312683924475\n"
     ]
    }
   ],
   "source": [
    "### calculating rmse for training data\n",
    "stan_err = []\n",
    "for i in train.columns[1:8]:\n",
    "    for j in train[i]:\n",
    "        if  np.isnan(j) == False:\n",
    "            stan_err.append(j-train_mean)\n",
    "train_rmse = sum(stan_err)/len(stan_err)\n",
    "\n",
    "print \"training RMSE: \", train_rmse"
   ]
  },
  {
   "cell_type": "code",
   "execution_count": 24,
   "metadata": {},
   "outputs": [
    {
     "name": "stdout",
     "output_type": "stream",
     "text": [
      "testing RMSE:  2.44853658536586\n"
     ]
    }
   ],
   "source": [
    "stan_err = []\n",
    "for i in test.columns[1:8]:\n",
    "    for j in test[i]:\n",
    "        if  np.isnan(j) == False: \n",
    "            stan_err.append(j-train_mean)\n",
    "\n",
    "test_rmse = sum(stan_err)/len(stan_err)\n",
    "\n",
    "print \"testing RMSE: \", test_rmse"
   ]
  },
  {
   "cell_type": "code",
   "execution_count": 27,
   "metadata": {},
   "outputs": [
    {
     "name": "stdout",
     "output_type": "stream",
     "text": [
      " 1 3.83155080214\n",
      "2 3.40853658537\n",
      "3 3.01162790698\n",
      "4 2.2\n",
      "5 3.30681818182\n",
      "6 3.85\n",
      "7 3.29069767442\n"
     ]
    }
   ],
   "source": [
    "for movie in train.columns[1:8]:\n",
    "    print movie, train[movie].mean(skipna=True)"
   ]
  },
  {
   "cell_type": "code",
   "execution_count": 28,
   "metadata": {},
   "outputs": [
    {
     "name": "stdout",
     "output_type": "stream",
     "text": [
      "366    184.500000\n",
      "155    156.000000\n",
      "626    315.500000\n",
      "245    246.000000\n",
      "424    143.333333\n",
      "284     73.750000\n",
      "493    494.000000\n",
      "433    147.333333\n",
      "600    601.000000\n",
      "49      50.000000\n",
      "349    177.000000\n",
      "360     92.750000\n",
      "548    549.000000\n",
      "83      43.750000\n",
      "65      66.000000\n",
      "512    513.000000\n",
      "649    164.250000\n",
      "247    248.000000\n",
      "471    120.500000\n",
      "204    104.750000\n",
      "382    130.333333\n",
      "195    100.000000\n",
      "294    149.750000\n",
      "337    170.500000\n",
      "110     39.166667\n",
      "412    141.000000\n",
      "369    370.000000\n",
      "560    189.000000\n",
      "403    204.000000\n",
      "488    489.000000\n",
      "          ...    \n",
      "261     88.833333\n",
      "50      51.000000\n",
      "565    566.000000\n",
      "378    191.250000\n",
      "274     94.666667\n",
      "528    266.500000\n",
      "562    563.000000\n",
      "94      50.000000\n",
      "285    286.000000\n",
      "0        1.000000\n",
      "499    167.833333\n",
      "399    400.000000\n",
      "546    138.750000\n",
      "276    277.000000\n",
      "650    651.000000\n",
      "595    201.166667\n",
      "299    300.000000\n",
      "500    253.000000\n",
      "171    172.000000\n",
      "482    483.000000\n",
      "342    117.666667\n",
      "283     50.000000\n",
      "326    327.000000\n",
      "549    550.000000\n",
      "381     79.300000\n",
      "104     54.000000\n",
      "426    427.000000\n",
      "529    267.500000\n",
      "289    290.000000\n",
      "374    375.000000\n",
      "Length: 536, dtype: float64\n"
     ]
    }
   ],
   "source": [
    "print train.mean(axis=1, skipna=True)\n"
   ]
  },
  {
   "cell_type": "code",
   "execution_count": null,
   "metadata": {},
   "outputs": [],
   "source": []
  }
 ],
 "metadata": {
  "kernelspec": {
   "display_name": "Python 3",
   "language": "python",
   "name": "python3"
  },
  "language_info": {
   "codemirror_mode": {
    "name": "ipython",
    "version": 2
   },
   "file_extension": ".py",
   "mimetype": "text/x-python",
   "name": "python",
   "nbconvert_exporter": "python",
   "pygments_lexer": "ipython2",
   "version": "2.7.14"
  }
 },
 "nbformat": 4,
 "nbformat_minor": 2
}
