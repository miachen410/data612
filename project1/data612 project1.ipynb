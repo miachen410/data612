{
 "cells": [
  {
   "cell_type": "code",
   "execution_count": 104,
   "metadata": {},
   "outputs": [],
   "source": [
    "import pandas as pd\n",
    "import numpy as np\n",
    "import math"
   ]
  },
  {
   "cell_type": "code",
   "execution_count": 2,
   "metadata": {},
   "outputs": [],
   "source": [
    "rate = pd.read_csv('./ratings_small.csv')"
   ]
  },
  {
   "cell_type": "code",
   "execution_count": 3,
   "metadata": {},
   "outputs": [],
   "source": [
    "rate_mtrx = rate.pivot(index='userId', columns='movieId', values='rating')\n",
    "##  select the first 7 movies only\n",
    "rate_mtrx = rate_mtrx.reset_index()[['userId',1,2,3,4,5,6,7]]"
   ]
  },
  {
   "cell_type": "code",
   "execution_count": 69,
   "metadata": {},
   "outputs": [
    {
     "data": {
      "text/html": [
       "<div>\n",
       "<style scoped>\n",
       "    .dataframe tbody tr th:only-of-type {\n",
       "        vertical-align: middle;\n",
       "    }\n",
       "\n",
       "    .dataframe tbody tr th {\n",
       "        vertical-align: top;\n",
       "    }\n",
       "\n",
       "    .dataframe thead th {\n",
       "        text-align: right;\n",
       "    }\n",
       "</style>\n",
       "<table border=\"1\" class=\"dataframe\">\n",
       "  <thead>\n",
       "    <tr style=\"text-align: right;\">\n",
       "      <th>movieId</th>\n",
       "      <th>userId</th>\n",
       "      <th>1</th>\n",
       "      <th>2</th>\n",
       "      <th>3</th>\n",
       "      <th>4</th>\n",
       "      <th>5</th>\n",
       "      <th>6</th>\n",
       "      <th>7</th>\n",
       "    </tr>\n",
       "  </thead>\n",
       "  <tbody>\n",
       "    <tr>\n",
       "      <td>0</td>\n",
       "      <td>1</td>\n",
       "      <td>NaN</td>\n",
       "      <td>NaN</td>\n",
       "      <td>NaN</td>\n",
       "      <td>NaN</td>\n",
       "      <td>NaN</td>\n",
       "      <td>NaN</td>\n",
       "      <td>NaN</td>\n",
       "    </tr>\n",
       "    <tr>\n",
       "      <td>1</td>\n",
       "      <td>2</td>\n",
       "      <td>NaN</td>\n",
       "      <td>NaN</td>\n",
       "      <td>NaN</td>\n",
       "      <td>NaN</td>\n",
       "      <td>NaN</td>\n",
       "      <td>NaN</td>\n",
       "      <td>NaN</td>\n",
       "    </tr>\n",
       "    <tr>\n",
       "      <td>2</td>\n",
       "      <td>3</td>\n",
       "      <td>NaN</td>\n",
       "      <td>NaN</td>\n",
       "      <td>NaN</td>\n",
       "      <td>NaN</td>\n",
       "      <td>NaN</td>\n",
       "      <td>NaN</td>\n",
       "      <td>NaN</td>\n",
       "    </tr>\n",
       "    <tr>\n",
       "      <td>3</td>\n",
       "      <td>4</td>\n",
       "      <td>NaN</td>\n",
       "      <td>NaN</td>\n",
       "      <td>NaN</td>\n",
       "      <td>NaN</td>\n",
       "      <td>NaN</td>\n",
       "      <td>NaN</td>\n",
       "      <td>NaN</td>\n",
       "    </tr>\n",
       "    <tr>\n",
       "      <td>4</td>\n",
       "      <td>5</td>\n",
       "      <td>NaN</td>\n",
       "      <td>NaN</td>\n",
       "      <td>4.0</td>\n",
       "      <td>NaN</td>\n",
       "      <td>NaN</td>\n",
       "      <td>NaN</td>\n",
       "      <td>NaN</td>\n",
       "    </tr>\n",
       "    <tr>\n",
       "      <td>5</td>\n",
       "      <td>6</td>\n",
       "      <td>NaN</td>\n",
       "      <td>NaN</td>\n",
       "      <td>NaN</td>\n",
       "      <td>NaN</td>\n",
       "      <td>NaN</td>\n",
       "      <td>NaN</td>\n",
       "      <td>NaN</td>\n",
       "    </tr>\n",
       "    <tr>\n",
       "      <td>6</td>\n",
       "      <td>7</td>\n",
       "      <td>3.0</td>\n",
       "      <td>NaN</td>\n",
       "      <td>NaN</td>\n",
       "      <td>NaN</td>\n",
       "      <td>NaN</td>\n",
       "      <td>NaN</td>\n",
       "      <td>NaN</td>\n",
       "    </tr>\n",
       "    <tr>\n",
       "      <td>7</td>\n",
       "      <td>8</td>\n",
       "      <td>NaN</td>\n",
       "      <td>NaN</td>\n",
       "      <td>NaN</td>\n",
       "      <td>NaN</td>\n",
       "      <td>NaN</td>\n",
       "      <td>NaN</td>\n",
       "      <td>NaN</td>\n",
       "    </tr>\n",
       "    <tr>\n",
       "      <td>8</td>\n",
       "      <td>9</td>\n",
       "      <td>4.0</td>\n",
       "      <td>NaN</td>\n",
       "      <td>NaN</td>\n",
       "      <td>NaN</td>\n",
       "      <td>NaN</td>\n",
       "      <td>NaN</td>\n",
       "      <td>NaN</td>\n",
       "    </tr>\n",
       "    <tr>\n",
       "      <td>9</td>\n",
       "      <td>10</td>\n",
       "      <td>NaN</td>\n",
       "      <td>NaN</td>\n",
       "      <td>NaN</td>\n",
       "      <td>NaN</td>\n",
       "      <td>NaN</td>\n",
       "      <td>NaN</td>\n",
       "      <td>NaN</td>\n",
       "    </tr>\n",
       "  </tbody>\n",
       "</table>\n",
       "</div>"
      ],
      "text/plain": [
       "movieId  userId    1   2    3   4   5   6   7\n",
       "0             1  NaN NaN  NaN NaN NaN NaN NaN\n",
       "1             2  NaN NaN  NaN NaN NaN NaN NaN\n",
       "2             3  NaN NaN  NaN NaN NaN NaN NaN\n",
       "3             4  NaN NaN  NaN NaN NaN NaN NaN\n",
       "4             5  NaN NaN  4.0 NaN NaN NaN NaN\n",
       "5             6  NaN NaN  NaN NaN NaN NaN NaN\n",
       "6             7  3.0 NaN  NaN NaN NaN NaN NaN\n",
       "7             8  NaN NaN  NaN NaN NaN NaN NaN\n",
       "8             9  4.0 NaN  NaN NaN NaN NaN NaN\n",
       "9            10  NaN NaN  NaN NaN NaN NaN NaN"
      ]
     },
     "execution_count": 69,
     "metadata": {},
     "output_type": "execute_result"
    }
   ],
   "source": [
    "### take a look at the first 10 rows\n",
    "rate_mtrx.head(10)"
   ]
  },
  {
   "cell_type": "code",
   "execution_count": 4,
   "metadata": {},
   "outputs": [],
   "source": [
    "from sklearn.model_selection import train_test_split\n",
    "train, test = train_test_split(rate_mtrx, test_size=0.2)"
   ]
  },
  {
   "cell_type": "code",
   "execution_count": 5,
   "metadata": {},
   "outputs": [
    {
     "name": "stdout",
     "output_type": "stream",
     "text": [
      "training raw average:  1.7935393258426966\n"
     ]
    }
   ],
   "source": [
    "total_sum = (train[1].sum(skipna=True) +\n",
    "      train[2].sum(skipna=True) +\n",
    "      train[3].sum(skipna=True) +\n",
    "      train[4].sum(skipna=True) +\n",
    "      train[5].sum(skipna=True) +\n",
    "      train[6].sum(skipna=True) +\n",
    "      train[7].sum(skipna=True))\n",
    "\n",
    "total_entries = (~np.isnan(train)).sum(1).sum()\n",
    "\n",
    "train_mean = total_sum/total_entries\n",
    "\n",
    "print(\"training raw average: \", train_mean)"
   ]
  },
  {
   "cell_type": "code",
   "execution_count": 99,
   "metadata": {},
   "outputs": [
    {
     "name": "stdout",
     "output_type": "stream",
     "text": [
      "training RMSE:  2.061338333323324\n"
     ]
    }
   ],
   "source": [
    "### calculating rmse for training data\n",
    "stan_err = []\n",
    "for i in train.columns[1:8]:\n",
    "    for j in train[i]:\n",
    "        if  np.isnan(j) == False:\n",
    "            stan_err.append((j-train_mean)**2)\n",
    "            \n",
    "train_rmse = math.sqrt(sum(stan_err)/len(stan_err))\n",
    "\n",
    "print(\"training RMSE: \", train_rmse)"
   ]
  },
  {
   "cell_type": "code",
   "execution_count": 100,
   "metadata": {
    "scrolled": true
   },
   "outputs": [
    {
     "name": "stdout",
     "output_type": "stream",
     "text": [
      "testing RMSE:  2.100959174821407\n"
     ]
    }
   ],
   "source": [
    "stan_err = []\n",
    "for i in test.columns[1:8]:\n",
    "    for j in test[i]:\n",
    "        if  np.isnan(j) == False: \n",
    "            stan_err.append((j-train_mean)**2)\n",
    "\n",
    "test_rmse = math.sqrt(sum(stan_err)/len(stan_err))\n",
    "\n",
    "print(\"testing RMSE: \", test_rmse)"
   ]
  },
  {
   "cell_type": "markdown",
   "metadata": {},
   "source": [
    "In order to find the baseline predictor, we need to find the movie bias for each movie and user bias for each user"
   ]
  },
  {
   "cell_type": "code",
   "execution_count": 46,
   "metadata": {},
   "outputs": [
    {
     "name": "stdout",
     "output_type": "stream",
     "text": [
      "[2.0989606741573033, 1.6175717852684144, 1.4064606741573036, 0.591076058772688, 1.4964606741573034, 2.0770489094514213, 1.513278855975485]\n"
     ]
    }
   ],
   "source": [
    "### calculate and store movie bias for each movie\n",
    "movie_bias = []\n",
    "for movie in train.columns[1:8]:\n",
    "    movie_bias.append(train[movie].mean(skipna=True)-train_mean)\n",
    "    \n",
    "print(movie_bias)"
   ]
  },
  {
   "cell_type": "code",
   "execution_count": 47,
   "metadata": {},
   "outputs": [
    {
     "name": "stdout",
     "output_type": "stream",
     "text": [
      "536\n"
     ]
    }
   ],
   "source": [
    "### calculate and store user bias for each user\n",
    "user_bias = []\n",
    "for user in range(len(train)):\n",
    "    user_bias.append(train.iloc[user,1:8].mean(skipna=True)-train_mean)\n",
    "    \n",
    "print(len(user_bias))"
   ]
  },
  {
   "cell_type": "code",
   "execution_count": 71,
   "metadata": {
    "scrolled": true
   },
   "outputs": [
    {
     "name": "stdout",
     "output_type": "stream",
     "text": [
      "          0         1         2         3         4         5         6\n",
      "0       NaN       NaN       NaN       NaN       NaN       NaN       NaN\n",
      "1       NaN       NaN       NaN       NaN       NaN       NaN       NaN\n",
      "2       NaN       NaN       NaN       NaN       NaN       NaN       NaN\n",
      "3       NaN       NaN       NaN       NaN       NaN       NaN       NaN\n",
      "4  5.432294  4.950905  4.739794  3.924409  4.829794  5.410382  4.846612\n",
      "5  7.098961  6.617572  6.406461  5.591076  6.496461  7.077049  6.513279\n",
      "6  6.098961  5.617572  5.406461  4.591076  5.496461  6.077049  5.513279\n",
      "7       NaN       NaN       NaN       NaN       NaN       NaN       NaN\n",
      "8       NaN       NaN       NaN       NaN       NaN       NaN       NaN\n",
      "9       NaN       NaN       NaN       NaN       NaN       NaN       NaN\n"
     ]
    }
   ],
   "source": [
    "### baseline predictor = user bias + movie bias + raw avg\n",
    "### calculate baseline predictor for each combination of user and movie; we store the values to df DataFrame\n",
    "df_mtx = np.matrix([user_bias]).reshape(len(user_bias),1) + np.matrix([movie_bias]).reshape(1,len(movie_bias)) + train_mean\n",
    "df = pd.DataFrame(df_mtx)\n",
    "\n",
    "print(df.head(10))"
   ]
  },
  {
   "cell_type": "markdown",
   "metadata": {},
   "source": [
    "Some predictor values are greater than 5(the max rating), so we need to cap these value at 5"
   ]
  },
  {
   "cell_type": "code",
   "execution_count": 40,
   "metadata": {},
   "outputs": [],
   "source": [
    "### capping baseline predictor values at 5\n",
    "df.loc[df[0]>5,0]=5\n",
    "df.loc[df[1]>5,1]=5\n",
    "df.loc[df[2]>5,2]=5\n",
    "df.loc[df[3]>5,3]=5\n",
    "df.loc[df[4]>5,4]=5\n",
    "df.loc[df[5]>5,5]=5\n",
    "df.loc[df[6]>5,6]=5"
   ]
  },
  {
   "cell_type": "code",
   "execution_count": 118,
   "metadata": {},
   "outputs": [
    {
     "name": "stdout",
     "output_type": "stream",
     "text": [
      "new rmse: 1.9508534075383046\n"
     ]
    }
   ],
   "source": [
    "### calculating rmse for training data\n",
    "train2 = train.iloc[:,1:8]\n",
    "\n",
    "se = (df - train2)**2\n",
    "total_count = (~np.isnan(se)).sum(1).sum()\n",
    "\n",
    "new_rmse = np.sqrt((se.sum(1).sum())/total_count)\n",
    "\n",
    "print(\"new RMSE: \" + str(new_rmse))"
   ]
  },
  {
   "cell_type": "code",
   "execution_count": 122,
   "metadata": {},
   "outputs": [
    {
     "name": "stdout",
     "output_type": "stream",
     "text": [
      "RMSE is improved by 5.0%\n"
     ]
    }
   ],
   "source": [
    "improvement = (1 - new_rmse/train_rmse)*100\n",
    "print(\"RMSE is improved by \" + str(round(improvement)) + \"%\")"
   ]
  },
  {
   "cell_type": "code",
   "execution_count": null,
   "metadata": {},
   "outputs": [],
   "source": []
  }
 ],
 "metadata": {
  "kernelspec": {
   "display_name": "Python 3",
   "language": "python",
   "name": "python3"
  },
  "language_info": {
   "codemirror_mode": {
    "name": "ipython",
    "version": 3
   },
   "file_extension": ".py",
   "mimetype": "text/x-python",
   "name": "python",
   "nbconvert_exporter": "python",
   "pygments_lexer": "ipython3",
   "version": "3.7.4"
  }
 },
 "nbformat": 4,
 "nbformat_minor": 2
}
